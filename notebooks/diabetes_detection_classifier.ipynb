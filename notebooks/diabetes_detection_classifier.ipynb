{
 "cells": [
  {
   "cell_type": "markdown",
   "metadata": {},
   "source": [
    "## The dataset for this project was downloaded from [Kaggle](https://www.kaggle.com/datasets/ashmitcajla/dataset-for-blood-glucose-level-readings?). <br/>\n",
    "The given Dataset is record of different age group people either diabetic or non-diabetic for\n",
    "their blood glucose level reading with superficial body features like body temperature, heart\n",
    "rate, blood pressure etc. <br/>\n",
    "The main purpose of the dataset is to understand the effect of blood glucose level on human\n",
    "body. <br/>\n",
    "The different superficial body parameters show significant variation according to change in\n",
    "blood glucose level. <br/>\n",
    "The given records is the combination of true records with synthetic records. The true records\n",
    "are gathered from the diabetic patients using electronic gadgets to get the readings for body\n",
    "temperature, heart rate and blood pressure. Also true record from diabetic patients are gathered\n",
    "either by pricking method or flash glucose monitoring technique used by the diabetic patients.\n",
    "The non-diabetic people are gathered using electronic gadget like smart wrist bands and based\n",
    "on their average blood glucose level of 5 days the synthetic blood glucose level is recorded.\n",
    "For non-diabetic people there is no much variation in the blood glucose levels."
   ]
  },
  {
   "cell_type": "code",
   "execution_count": 1,
   "metadata": {},
   "outputs": [],
   "source": [
    "# Importing Necessary Libraries\n",
    "import pandas as pd\n",
    "from sklearn.preprocessing import LabelEncoder\n",
    "from sklearn.model_selection import train_test_split\n",
    "from sklearn.utils import resample"
   ]
  },
  {
   "cell_type": "code",
   "execution_count": 3,
   "metadata": {},
   "outputs": [
    {
     "data": {
      "text/html": [
       "<div>\n",
       "<style scoped>\n",
       "    .dataframe tbody tr th:only-of-type {\n",
       "        vertical-align: middle;\n",
       "    }\n",
       "\n",
       "    .dataframe tbody tr th {\n",
       "        vertical-align: top;\n",
       "    }\n",
       "\n",
       "    .dataframe thead th {\n",
       "        text-align: right;\n",
       "    }\n",
       "</style>\n",
       "<table border=\"1\" class=\"dataframe\">\n",
       "  <thead>\n",
       "    <tr style=\"text-align: right;\">\n",
       "      <th></th>\n",
       "      <th>Age</th>\n",
       "      <th>Blood Glucose Level(BGL)</th>\n",
       "      <th>Diastolic Blood Pressure</th>\n",
       "      <th>Systolic Blood Pressure</th>\n",
       "      <th>Heart Rate</th>\n",
       "      <th>Body Temperature</th>\n",
       "      <th>SPO2</th>\n",
       "      <th>Sweating  (Y/N)</th>\n",
       "      <th>Shivering (Y/N)</th>\n",
       "      <th>Diabetic/NonDiabetic (D/N)</th>\n",
       "    </tr>\n",
       "  </thead>\n",
       "  <tbody>\n",
       "    <tr>\n",
       "      <th>0</th>\n",
       "      <td>9</td>\n",
       "      <td>79</td>\n",
       "      <td>73</td>\n",
       "      <td>118</td>\n",
       "      <td>98</td>\n",
       "      <td>98.300707</td>\n",
       "      <td>99</td>\n",
       "      <td>0</td>\n",
       "      <td>0</td>\n",
       "      <td>N</td>\n",
       "    </tr>\n",
       "    <tr>\n",
       "      <th>1</th>\n",
       "      <td>9</td>\n",
       "      <td>80</td>\n",
       "      <td>73</td>\n",
       "      <td>119</td>\n",
       "      <td>102</td>\n",
       "      <td>98.300707</td>\n",
       "      <td>94</td>\n",
       "      <td>1</td>\n",
       "      <td>0</td>\n",
       "      <td>N</td>\n",
       "    </tr>\n",
       "    <tr>\n",
       "      <th>2</th>\n",
       "      <td>9</td>\n",
       "      <td>70</td>\n",
       "      <td>76</td>\n",
       "      <td>110</td>\n",
       "      <td>81</td>\n",
       "      <td>98.300707</td>\n",
       "      <td>98</td>\n",
       "      <td>1</td>\n",
       "      <td>0</td>\n",
       "      <td>N</td>\n",
       "    </tr>\n",
       "    <tr>\n",
       "      <th>3</th>\n",
       "      <td>9</td>\n",
       "      <td>70</td>\n",
       "      <td>78</td>\n",
       "      <td>115</td>\n",
       "      <td>96</td>\n",
       "      <td>98.300707</td>\n",
       "      <td>96</td>\n",
       "      <td>1</td>\n",
       "      <td>0</td>\n",
       "      <td>N</td>\n",
       "    </tr>\n",
       "    <tr>\n",
       "      <th>4</th>\n",
       "      <td>66</td>\n",
       "      <td>100</td>\n",
       "      <td>96</td>\n",
       "      <td>144</td>\n",
       "      <td>92</td>\n",
       "      <td>97.807052</td>\n",
       "      <td>98</td>\n",
       "      <td>0</td>\n",
       "      <td>0</td>\n",
       "      <td>N</td>\n",
       "    </tr>\n",
       "  </tbody>\n",
       "</table>\n",
       "</div>"
      ],
      "text/plain": [
       "   Age  Blood Glucose Level(BGL)  Diastolic Blood Pressure  \\\n",
       "0    9                        79                        73   \n",
       "1    9                        80                        73   \n",
       "2    9                        70                        76   \n",
       "3    9                        70                        78   \n",
       "4   66                       100                        96   \n",
       "\n",
       "   Systolic Blood Pressure  Heart Rate  Body Temperature  SPO2  \\\n",
       "0                      118          98         98.300707    99   \n",
       "1                      119         102         98.300707    94   \n",
       "2                      110          81         98.300707    98   \n",
       "3                      115          96         98.300707    96   \n",
       "4                      144          92         97.807052    98   \n",
       "\n",
       "   Sweating  (Y/N)  Shivering (Y/N) Diabetic/NonDiabetic (D/N)  \n",
       "0                0                0                          N  \n",
       "1                1                0                          N  \n",
       "2                1                0                          N  \n",
       "3                1                0                          N  \n",
       "4                0                0                          N  "
      ]
     },
     "execution_count": 3,
     "metadata": {},
     "output_type": "execute_result"
    }
   ],
   "source": [
    "# Load the dataset from the Excel file\n",
    "file_path = '../data/blood_glucose_level.xlsx'\n",
    "df = pd.read_excel(file_path, sheet_name='Sheet1')\n",
    "df.head()"
   ]
  },
  {
   "cell_type": "markdown",
   "metadata": {},
   "source": [
    "### The dataset contains the following key columns:\n",
    "\n",
    "1. Age: Age of the person. <br/>\n",
    "2. Blood Glucose Level (BGL): Blood glucose level. <br/>\n",
    "3. Diastolic and Systolic Blood Pressure: Blood pressure measurements. <br/>\n",
    "4. Heart Rate: Heartbeat per minute. <br/>\n",
    "5. Body Temperature: Body temperature in degrees. <br/>\n",
    "6. SPO2: Blood oxygen level. <br/>\n",
    "7. Sweating (Y/N) and Shivering (Y/N): Binary indicators (1 = Yes, 0 = No). <br/>\n",
    "8. Diabetic/NonDiabetic (D/N): Target variable to classify. <br/>"
   ]
  },
  {
   "cell_type": "code",
   "execution_count": 4,
   "metadata": {},
   "outputs": [
    {
     "name": "stdout",
     "output_type": "stream",
     "text": [
      "<class 'pandas.core.frame.DataFrame'>\n",
      "RangeIndex: 16969 entries, 0 to 16968\n",
      "Data columns (total 10 columns):\n",
      " #   Column                      Non-Null Count  Dtype  \n",
      "---  ------                      --------------  -----  \n",
      " 0   Age                         16969 non-null  int64  \n",
      " 1   Blood Glucose Level(BGL)    16969 non-null  int64  \n",
      " 2   Diastolic Blood Pressure    16969 non-null  int64  \n",
      " 3   Systolic Blood Pressure     16969 non-null  int64  \n",
      " 4   Heart Rate                  16969 non-null  int64  \n",
      " 5   Body Temperature            16969 non-null  float64\n",
      " 6   SPO2                        16969 non-null  int64  \n",
      " 7   Sweating  (Y/N)             16969 non-null  int64  \n",
      " 8   Shivering (Y/N)             16969 non-null  int64  \n",
      " 9   Diabetic/NonDiabetic (D/N)  16969 non-null  object \n",
      "dtypes: float64(1), int64(8), object(1)\n",
      "memory usage: 1.3+ MB\n",
      "None\n"
     ]
    }
   ],
   "source": [
    "# Display basic information about the dataset\n",
    "print(df.info())"
   ]
  },
  {
   "cell_type": "code",
   "execution_count": 5,
   "metadata": {},
   "outputs": [
    {
     "name": "stdout",
     "output_type": "stream",
     "text": [
      "Age                           0\n",
      "Blood Glucose Level(BGL)      0\n",
      "Diastolic Blood Pressure      0\n",
      "Systolic Blood Pressure       0\n",
      "Heart Rate                    0\n",
      "Body Temperature              0\n",
      "SPO2                          0\n",
      "Sweating  (Y/N)               0\n",
      "Shivering (Y/N)               0\n",
      "Diabetic/NonDiabetic (D/N)    0\n",
      "dtype: int64\n"
     ]
    }
   ],
   "source": [
    "# Check for missing values\n",
    "print(df.isnull().sum())"
   ]
  },
  {
   "cell_type": "code",
   "execution_count": 6,
   "metadata": {},
   "outputs": [
    {
     "name": "stdout",
     "output_type": "stream",
     "text": [
      "                Age  Blood Glucose Level(BGL)  Diastolic Blood Pressure  \\\n",
      "count  16969.000000              16969.000000              16969.000000   \n",
      "mean      30.988862                 95.722789                 77.173493   \n",
      "std       25.585606                 42.994199                  7.241511   \n",
      "min        9.000000                 50.000000                 60.000000   \n",
      "25%        9.000000                 68.000000                 71.000000   \n",
      "50%       14.000000                 83.000000                 76.000000   \n",
      "75%       55.000000                108.000000                 83.000000   \n",
      "max       77.000000                250.000000                 98.000000   \n",
      "\n",
      "       Systolic Blood Pressure    Heart Rate  Body Temperature          SPO2  \\\n",
      "count             16969.000000  16969.000000      16969.000000  16969.000000   \n",
      "mean                118.187165     91.524191         97.356146     97.382403   \n",
      "std                   7.700363     10.409780          0.813555      0.848689   \n",
      "min                  95.000000     78.000000         96.000132     93.000000   \n",
      "25%                 113.000000     84.000000         96.674466     97.000000   \n",
      "50%                 119.000000     89.000000         97.326523     98.000000   \n",
      "75%                 124.000000     95.000000         97.949904     98.000000   \n",
      "max                 145.000000    130.000000         98.999792     99.000000   \n",
      "\n",
      "       Sweating  (Y/N)  Shivering (Y/N)  \n",
      "count     16969.000000     16969.000000  \n",
      "mean          0.121692         0.145560  \n",
      "std           0.326940         0.352674  \n",
      "min           0.000000         0.000000  \n",
      "25%           0.000000         0.000000  \n",
      "50%           0.000000         0.000000  \n",
      "75%           0.000000         0.000000  \n",
      "max           1.000000         1.000000  \n"
     ]
    }
   ],
   "source": [
    "# Statistical summary of numerical features\n",
    "print(df.describe())"
   ]
  },
  {
   "cell_type": "code",
   "execution_count": 7,
   "metadata": {},
   "outputs": [
    {
     "name": "stdout",
     "output_type": "stream",
     "text": [
      "{'D': 0, 'N': 1}\n"
     ]
    }
   ],
   "source": [
    "# Encode the target variable\n",
    "label_encoder = LabelEncoder()\n",
    "df['Target'] = label_encoder.fit_transform(df['Diabetic/NonDiabetic (D/N)'])\n",
    "\n",
    "# Display the mapping\n",
    "print(dict(zip(label_encoder.classes_, label_encoder.transform(label_encoder.classes_))))"
   ]
  },
  {
   "cell_type": "code",
   "execution_count": 8,
   "metadata": {},
   "outputs": [],
   "source": [
    "# Drop the original target column\n",
    "df.drop(columns=['Diabetic/NonDiabetic (D/N)'], inplace=True)"
   ]
  },
  {
   "cell_type": "code",
   "execution_count": 9,
   "metadata": {},
   "outputs": [
    {
     "name": "stdout",
     "output_type": "stream",
     "text": [
      "Target\n",
      "0    16641\n",
      "1      328\n",
      "Name: count, dtype: int64\n"
     ]
    }
   ],
   "source": [
    "# Check the distribution of target classes\n",
    "print(df['Target'].value_counts())"
   ]
  },
  {
   "cell_type": "markdown",
   "metadata": {},
   "source": [
    "The dataset is highly imbalanced, with the majority class (Diabetic) comprising about 98% of the data."
   ]
  },
  {
   "cell_type": "markdown",
   "metadata": {},
   "source": [
    "We will use XGBoost classifier model which will handle the data imbalance well."
   ]
  },
  {
   "cell_type": "code",
   "execution_count": 10,
   "metadata": {},
   "outputs": [],
   "source": [
    "from sklearn.preprocessing import MinMaxScaler\n",
    "from xgboost import XGBClassifier\n",
    "from sklearn.metrics import classification_report, confusion_matrix\n",
    "from sklearn.utils.class_weight import compute_sample_weight"
   ]
  },
  {
   "cell_type": "code",
   "execution_count": 12,
   "metadata": {},
   "outputs": [],
   "source": [
    "# Define features (X) and target (y)\n",
    "X = df.drop(columns=['Target'])\n",
    "y = df['Target']\n",
    "\n",
    "# Normalize numerical features\n",
    "scaler = MinMaxScaler()\n",
    "X_scaled = scaler.fit_transform(X)"
   ]
  },
  {
   "cell_type": "code",
   "execution_count": 13,
   "metadata": {},
   "outputs": [],
   "source": [
    "# Split the dataset into training and testing sets\n",
    "X_train, X_test, y_train, y_test = train_test_split(X_scaled, y, test_size=0.2, random_state=42, stratify=y)"
   ]
  },
  {
   "cell_type": "code",
   "execution_count": 14,
   "metadata": {},
   "outputs": [],
   "source": [
    "# Calculate class weights\n",
    "num_negative = sum(y_train == 0)\n",
    "num_positive = sum(y_train == 1)\n",
    "scale_pos_weight = num_negative / num_positive"
   ]
  },
  {
   "cell_type": "code",
   "execution_count": 15,
   "metadata": {},
   "outputs": [
    {
     "data": {
      "text/plain": [
       "XGBClassifier(base_score=0.5, booster='gbtree', colsample_bylevel=1,\n",
       "              colsample_bynode=1, colsample_bytree=1, eval_metric='logloss',\n",
       "              gamma=0, gpu_id=-1, importance_type='gain',\n",
       "              interaction_constraints='', learning_rate=0.300000012,\n",
       "              max_delta_step=0, max_depth=6, min_child_weight=1, missing=nan,\n",
       "              monotone_constraints='()', n_estimators=100, n_jobs=12,\n",
       "              num_parallel_tree=1, random_state=42, reg_alpha=0, reg_lambda=1,\n",
       "              scale_pos_weight=50.81297709923664, subsample=1,\n",
       "              tree_method='exact', use_label_encoder=False,\n",
       "              validate_parameters=1, verbosity=None)"
      ]
     },
     "execution_count": 15,
     "metadata": {},
     "output_type": "execute_result"
    }
   ],
   "source": [
    "# Initialize and train the XGBoost classifier with scale_pos_weight\n",
    "model = XGBClassifier(use_label_encoder=False, eval_metric='logloss', scale_pos_weight=scale_pos_weight, random_state=42)\n",
    "model.fit(X_train, y_train)"
   ]
  },
  {
   "cell_type": "code",
   "execution_count": 16,
   "metadata": {},
   "outputs": [],
   "source": [
    "# Make predictions\n",
    "y_pred = model.predict(X_test)"
   ]
  },
  {
   "cell_type": "code",
   "execution_count": 17,
   "metadata": {},
   "outputs": [
    {
     "name": "stdout",
     "output_type": "stream",
     "text": [
      "Confusion Matrix:\n",
      " [[3325    3]\n",
      " [   1   65]]\n",
      "Classification Report:\n",
      "               precision    recall  f1-score   support\n",
      "\n",
      "           0       1.00      1.00      1.00      3328\n",
      "           1       0.96      0.98      0.97        66\n",
      "\n",
      "    accuracy                           1.00      3394\n",
      "   macro avg       0.98      0.99      0.98      3394\n",
      "weighted avg       1.00      1.00      1.00      3394\n",
      "\n"
     ]
    }
   ],
   "source": [
    "# Evaluate the model\n",
    "print(\"Confusion Matrix:\\n\", confusion_matrix(y_test, y_pred))\n",
    "print(\"Classification Report:\\n\", classification_report(y_test, y_pred))"
   ]
  }
 ],
 "metadata": {
  "kernelspec": {
   "display_name": "Python 3",
   "language": "python",
   "name": "python3"
  },
  "language_info": {
   "codemirror_mode": {
    "name": "ipython",
    "version": 3
   },
   "file_extension": ".py",
   "mimetype": "text/x-python",
   "name": "python",
   "nbconvert_exporter": "python",
   "pygments_lexer": "ipython3",
   "version": "3.9.5"
  }
 },
 "nbformat": 4,
 "nbformat_minor": 2
}
